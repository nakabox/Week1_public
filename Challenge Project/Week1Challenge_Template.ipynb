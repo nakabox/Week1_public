{
  "nbformat": 4,
  "nbformat_minor": 0,
  "metadata": {
    "colab": {
      "name": "Challenge_Project_STUDENT.ipynb",
      "version": "0.3.2",
      "provenance": [],
      "collapsed_sections": []
    },
    "kernelspec": {
      "display_name": "Python 3",
      "language": "python",
      "name": "python3"
    }
  },
  "cells": [
    {
      "metadata": {
        "id": "XQDE8pPCpFRb",
        "colab_type": "text"
      },
      "cell_type": "markdown",
      "source": [
        "# Week 1 Challenge Project Template\n",
        "\n",
        "You are not required to use this template, but we are providing it for your reference to help get you started and stay organized!  We recommend that you define functions for each step to make it easier to track what's going on in the code (especially if different team members are working on different pieces of the project).\n",
        "\n",
        "Most of the functions provided are just examples!  Feel free to replace them with something better!  This is just a minimum working example."
      ]
    },
    {
      "metadata": {
        "id": "HsZB_SGvp4mP",
        "colab_type": "text"
      },
      "cell_type": "markdown",
      "source": [
        "## 1. Load the data"
      ]
    },
    {
      "metadata": {
        "id": "r9Zvhmlc3O4e",
        "colab_type": "code",
        "colab": {
          "base_uri": "https://localhost:8080/",
          "height": 17
        },
        "outputId": "5666ac83-1a09-43d2-f22e-a32237268e3e"
      },
      "cell_type": "code",
      "source": [
        "import pandas as po\n",
        "import numpy as np\n",
        "\n",
        "%matplotlib inline"
      ],
      "execution_count": 208,
      "outputs": []
    },
    {
      "metadata": {
        "id": "s9AtXQPkzC8j",
        "colab_type": "code",
        "colab": {
          "base_uri": "https://localhost:8080/",
          "height": 17
        },
        "outputId": "f3cb3746-5dae-4ff3-c99c-43ee1aba7dbe"
      },
      "cell_type": "code",
      "source": [
        "train_url = \"https://raw.githubusercontent.com/BeaverWorksMedlytics/datasets/master/allhypo.train.data.csv\"\n",
        "test_url = \"https://raw.githubusercontent.com/BeaverWorksMedlytics/datasets/master/allhypo.test.data.csv\"\n",
        "\n",
        "data_train = po.read_csv(train_url) \n",
        "data_test = po.read_csv(test_url)   # this will not have a 'class' column!\n",
        "\n",
        "# identify columns by what time of data they hold\n",
        "numeric_columns=list([\"Age\",\"TSH\",\"T3\",\"TT4\",\"T4u\",\"FTI\"])\n",
        "\n",
        "# categorical columns are everything else (minus 'class')\n",
        "categorical_columns = list(set(data_train.columns)-set(numeric_columns)-set(['class']))"
      ],
      "execution_count": 209,
      "outputs": []
    },
    {
      "metadata": {
        "id": "sGKbG-eBqBjF",
        "colab_type": "text"
      },
      "cell_type": "markdown",
      "source": [
        "## 2. Format your class labels\n",
        "Turn multi-classes into binary classes"
      ]
    },
    {
      "metadata": {
        "id": "rnp3nN9b6ZNw",
        "colab_type": "code",
        "colab": {
          "base_uri": "https://localhost:8080/",
          "height": 287
        },
        "outputId": "9e80b1a8-f3d0-4805-9484-ea1286bad6f9"
      },
      "cell_type": "code",
      "source": [
        "def format_class_labels(df):\n",
        "    \n",
        "    import re \n",
        "    \n",
        "    # regex the weird class labels out\n",
        "    regex_pattern = ( \"\\.\\|\\d+\")\n",
        "\n",
        "    for index, row in df.iterrows():\n",
        "\n",
        "        # substitute instances of our regex_pattern for an empty string\n",
        "        new_class = re.sub(regex_pattern, '', row['class'])\n",
        "        df.loc[index,'class']=new_class\n",
        "    \n",
        "    # set all negative class labels to 0, all others to 1\n",
        "\n",
        "    df['class'] = df['class'].replace('negative', 0)                    \n",
        "    df['class'] = df['class'].replace('compensated hypothyroid', 1)     \n",
        "    df['class'] = df['class'].replace('primary hypothyroid', 1)         \n",
        "    df['class'] = df['class'].replace('secondary hypothyroid', 1)\n",
        "    \n",
        "    return df\n",
        "\n",
        "data_train = format_class_labels(data_train)\n",
        "data_train.head()"
      ],
      "execution_count": 210,
      "outputs": [
        {
          "output_type": "execute_result",
          "data": {
            "text/html": [
              "<div>\n",
              "<style scoped>\n",
              "    .dataframe tbody tr th:only-of-type {\n",
              "        vertical-align: middle;\n",
              "    }\n",
              "\n",
              "    .dataframe tbody tr th {\n",
              "        vertical-align: top;\n",
              "    }\n",
              "\n",
              "    .dataframe thead th {\n",
              "        text-align: right;\n",
              "    }\n",
              "</style>\n",
              "<table border=\"1\" class=\"dataframe\">\n",
              "  <thead>\n",
              "    <tr style=\"text-align: right;\">\n",
              "      <th></th>\n",
              "      <th>Age</th>\n",
              "      <th>Sex</th>\n",
              "      <th>On thyroxine</th>\n",
              "      <th>query on thyroxine</th>\n",
              "      <th>on antithyroid medication</th>\n",
              "      <th>sick</th>\n",
              "      <th>pregnant</th>\n",
              "      <th>thyroid surgery</th>\n",
              "      <th>I131 treatment</th>\n",
              "      <th>query hypothyroid</th>\n",
              "      <th>...</th>\n",
              "      <th>TT4 measured</th>\n",
              "      <th>TT4</th>\n",
              "      <th>T4U measured</th>\n",
              "      <th>T4u</th>\n",
              "      <th>FTI measured</th>\n",
              "      <th>FTI</th>\n",
              "      <th>TBG measured</th>\n",
              "      <th>TBG</th>\n",
              "      <th>referral source</th>\n",
              "      <th>class</th>\n",
              "    </tr>\n",
              "  </thead>\n",
              "  <tbody>\n",
              "    <tr>\n",
              "      <th>0</th>\n",
              "      <td>41</td>\n",
              "      <td>F</td>\n",
              "      <td>f</td>\n",
              "      <td>f</td>\n",
              "      <td>f</td>\n",
              "      <td>f</td>\n",
              "      <td>f</td>\n",
              "      <td>f</td>\n",
              "      <td>f</td>\n",
              "      <td>f</td>\n",
              "      <td>...</td>\n",
              "      <td>t</td>\n",
              "      <td>125</td>\n",
              "      <td>t</td>\n",
              "      <td>1.14</td>\n",
              "      <td>t</td>\n",
              "      <td>109</td>\n",
              "      <td>f</td>\n",
              "      <td>?</td>\n",
              "      <td>SVHC</td>\n",
              "      <td>0</td>\n",
              "    </tr>\n",
              "    <tr>\n",
              "      <th>1</th>\n",
              "      <td>23</td>\n",
              "      <td>F</td>\n",
              "      <td>f</td>\n",
              "      <td>f</td>\n",
              "      <td>f</td>\n",
              "      <td>f</td>\n",
              "      <td>f</td>\n",
              "      <td>f</td>\n",
              "      <td>f</td>\n",
              "      <td>f</td>\n",
              "      <td>...</td>\n",
              "      <td>t</td>\n",
              "      <td>102</td>\n",
              "      <td>f</td>\n",
              "      <td>?</td>\n",
              "      <td>f</td>\n",
              "      <td>?</td>\n",
              "      <td>f</td>\n",
              "      <td>?</td>\n",
              "      <td>other</td>\n",
              "      <td>0</td>\n",
              "    </tr>\n",
              "    <tr>\n",
              "      <th>2</th>\n",
              "      <td>46</td>\n",
              "      <td>M</td>\n",
              "      <td>f</td>\n",
              "      <td>f</td>\n",
              "      <td>f</td>\n",
              "      <td>f</td>\n",
              "      <td>f</td>\n",
              "      <td>f</td>\n",
              "      <td>f</td>\n",
              "      <td>f</td>\n",
              "      <td>...</td>\n",
              "      <td>t</td>\n",
              "      <td>109</td>\n",
              "      <td>t</td>\n",
              "      <td>0.91</td>\n",
              "      <td>t</td>\n",
              "      <td>120</td>\n",
              "      <td>f</td>\n",
              "      <td>?</td>\n",
              "      <td>other</td>\n",
              "      <td>0</td>\n",
              "    </tr>\n",
              "    <tr>\n",
              "      <th>3</th>\n",
              "      <td>70</td>\n",
              "      <td>F</td>\n",
              "      <td>t</td>\n",
              "      <td>f</td>\n",
              "      <td>f</td>\n",
              "      <td>f</td>\n",
              "      <td>f</td>\n",
              "      <td>f</td>\n",
              "      <td>f</td>\n",
              "      <td>f</td>\n",
              "      <td>...</td>\n",
              "      <td>t</td>\n",
              "      <td>175</td>\n",
              "      <td>f</td>\n",
              "      <td>?</td>\n",
              "      <td>f</td>\n",
              "      <td>?</td>\n",
              "      <td>f</td>\n",
              "      <td>?</td>\n",
              "      <td>other</td>\n",
              "      <td>0</td>\n",
              "    </tr>\n",
              "    <tr>\n",
              "      <th>4</th>\n",
              "      <td>70</td>\n",
              "      <td>F</td>\n",
              "      <td>f</td>\n",
              "      <td>f</td>\n",
              "      <td>f</td>\n",
              "      <td>f</td>\n",
              "      <td>f</td>\n",
              "      <td>f</td>\n",
              "      <td>f</td>\n",
              "      <td>f</td>\n",
              "      <td>...</td>\n",
              "      <td>t</td>\n",
              "      <td>61</td>\n",
              "      <td>t</td>\n",
              "      <td>0.87</td>\n",
              "      <td>t</td>\n",
              "      <td>70</td>\n",
              "      <td>f</td>\n",
              "      <td>?</td>\n",
              "      <td>SVI</td>\n",
              "      <td>0</td>\n",
              "    </tr>\n",
              "  </tbody>\n",
              "</table>\n",
              "<p>5 rows × 29 columns</p>\n",
              "</div>"
            ],
            "text/plain": [
              "  Age Sex On thyroxine query on thyroxine on antithyroid medication sick  \\\n",
              "0  41   F            f                  f                         f    f   \n",
              "1  23   F            f                  f                         f    f   \n",
              "2  46   M            f                  f                         f    f   \n",
              "3  70   F            t                  f                         f    f   \n",
              "4  70   F            f                  f                         f    f   \n",
              "\n",
              "  pregnant thyroid surgery I131 treatment query hypothyroid  ...   \\\n",
              "0        f               f              f                 f  ...    \n",
              "1        f               f              f                 f  ...    \n",
              "2        f               f              f                 f  ...    \n",
              "3        f               f              f                 f  ...    \n",
              "4        f               f              f                 f  ...    \n",
              "\n",
              "  TT4 measured  TT4 T4U measured   T4u FTI measured  FTI TBG measured TBG  \\\n",
              "0            t  125            t  1.14            t  109            f   ?   \n",
              "1            t  102            f     ?            f    ?            f   ?   \n",
              "2            t  109            t  0.91            t  120            f   ?   \n",
              "3            t  175            f     ?            f    ?            f   ?   \n",
              "4            t   61            t  0.87            t   70            f   ?   \n",
              "\n",
              "  referral source class  \n",
              "0            SVHC     0  \n",
              "1           other     0  \n",
              "2           other     0  \n",
              "3           other     0  \n",
              "4             SVI     0  \n",
              "\n",
              "[5 rows x 29 columns]"
            ]
          },
          "metadata": {
            "tags": []
          },
          "execution_count": 210
        }
      ]
    },
    {
      "metadata": {
        "id": "XzBjGOFH3O4n",
        "colab_type": "text"
      },
      "cell_type": "markdown",
      "source": [
        "## 3. Split training into training and validation\n",
        "Choose what split you like (alternatively, you can do k-fold cross validation)"
      ]
    },
    {
      "metadata": {
        "id": "viIG1YML3O4o",
        "colab_type": "code",
        "colab": {
          "base_uri": "https://localhost:8080/",
          "height": 17
        },
        "outputId": "9a003e56-8784-4eba-c305-856a295c5223"
      },
      "cell_type": "code",
      "source": [
        "from sklearn.model_selection import train_test_split\n",
        "\n",
        "data_train, data_val = train_test_split(data_train, test_size=0.20, random_state=None, stratify=data_train['class'])"
      ],
      "execution_count": 211,
      "outputs": []
    },
    {
      "metadata": {
        "id": "VMSRyspR3O4p",
        "colab_type": "text"
      },
      "cell_type": "markdown",
      "source": [
        "## 4. Clean/format the data\n",
        "Note: removing rows is probably a bad idea because you won't be able to do this to the test data!  Try to come up with some clever ways to handle the \"?\" values."
      ]
    },
    {
      "metadata": {
        "id": "OXdEZtJr3O4r",
        "colab_type": "code",
        "colab": {
          "base_uri": "https://localhost:8080/",
          "height": 17
        },
        "outputId": "7a00b7c8-be93-4135-c875-634ee9fccd75"
      },
      "cell_type": "code",
      "source": [
        "# change all ?s to -1\n",
        "def handle_questions(df):\n",
        "    df.replace('?',0, inplace=True)\n",
        "    return df\n",
        "\n",
        "\n",
        "# Make sure you do the same thing to train & val so the data is all formatted the same\n",
        "data_train = handle_questions(data_train)\n",
        "data_val = handle_questions(data_val)"
      ],
      "execution_count": 212,
      "outputs": []
    },
    {
      "metadata": {
        "id": "SftUYtgO3O4s",
        "colab_type": "code",
        "colab": {
          "base_uri": "https://localhost:8080/",
          "height": 17
        },
        "outputId": "afd72782-1283-44c0-d46a-f75230cc7bc0"
      },
      "cell_type": "code",
      "source": [
        "def get_uninformative_columns(df):\n",
        "    \n",
        "    drop_columns = []\n",
        "    \n",
        "    for col in df.columns:\n",
        "        \n",
        "        # if this column has only one value, we can't learn anything from it\n",
        "        if(len(df[col].unique()) == 1):\n",
        "            drop_columns.append(col)\n",
        "            \n",
        "    return drop_columns\n",
        "\n",
        "\n",
        "# drop the uninformative features\n",
        "drop_columns = get_uninformative_columns(data_train)\n",
        "\n",
        "# Make sure you do the same thing to train & val\n",
        "data_train=data_train.drop(drop_columns,axis=1)\n",
        "data_val=data_val.drop(drop_columns,axis=1)"
      ],
      "execution_count": 213,
      "outputs": []
    },
    {
      "metadata": {
        "id": "9QndSspU7lW4",
        "colab_type": "code",
        "colab": {
          "base_uri": "https://localhost:8080/",
          "height": 17
        },
        "outputId": "862733c5-b326-444d-ccfa-a8914b6db8c7"
      },
      "cell_type": "code",
      "source": [
        "def format_data(df, numeric_columns):\n",
        "\n",
        "    # convert numeric columns from strings to numbers\n",
        "    df[numeric_columns] = df[numeric_columns].apply(po.to_numeric)    \n",
        "\n",
        "    categorical_columns = list(set(df.columns)-set(numeric_columns))\n",
        "\n",
        "    # convert categorical columns to indicator (0,1) variables\n",
        "    for col in categorical_columns:\n",
        "        \n",
        "        try:\n",
        "            df[col] = po.get_dummies(df[col],drop_first=True)\n",
        "        except Exception as e:\n",
        "            print(e)\n",
        "\n",
        "    return df\n",
        "\n",
        "\n",
        "\n",
        "# Make sure you do the same thing to train & val\n",
        "data_train = format_data(data_train, numeric_columns)\n",
        "data_val = format_data(data_val, numeric_columns)"
      ],
      "execution_count": 214,
      "outputs": []
    },
    {
      "metadata": {
        "id": "88m1XYa13O4z",
        "colab_type": "text"
      },
      "cell_type": "markdown",
      "source": [
        "## 5. Define and Train the Model\n",
        "You might want to consider having one process for training on one dataset and evaluating on another.  That way you can use the same code for your train/validation as you do for your train/test"
      ]
    },
    {
      "metadata": {
        "id": "C7Lok_3tGFYi",
        "colab_type": "code",
        "colab": {
          "base_uri": "https://localhost:8080/",
          "height": 17
        },
        "outputId": "c74f105c-0b83-4ded-854c-65d1227294c6"
      },
      "cell_type": "code",
      "source": [
        ""
      ],
      "execution_count": 214,
      "outputs": []
    },
    {
      "metadata": {
        "id": "IOUVaz383O4z",
        "colab_type": "code",
        "colab": {
          "base_uri": "https://localhost:8080/",
          "height": 17
        },
        "outputId": "ad320e9b-bf72-4474-be7f-f24dd7d176ad"
      },
      "cell_type": "code",
      "source": [
        "def my_classifier_predictions(data_train, data_predict):\n",
        "  #SVM\n",
        "  feature_columns = ['Sex', 'TSH']\n",
        "\n",
        "  X_train = data_train[feature_columns]\n",
        "  y_train = data_train['class']\n",
        "  \n",
        "  svc = svm.SVC()\n",
        "\n",
        "  parameters = [{'kernel': ['rbf'], 'gamma': [0.00001, 0.0001, 0.001, 0.01, 0.1, 1,10,100,1000], 'C': [.0001,.001,.01,1, 10, 100, 1000], 'decision_function_shape':['ovo', 'ovr'] }]\n",
        "  model = GridSearchCV(svc, parameters,cv = 5)\n",
        "  model.fit(X_train, y_train)\n",
        "  \n",
        "  \n",
        "  #using to test\n",
        "  print(model.best_params_)\n",
        "\n",
        "  clf = SVC(probability = True, gamma = model.best_estimator_.gamma, kernel = model.best_estimator_.kernel, C = model.best_estimator_.C, decision_function_shape = model.best_estimator_.decision_function_shape)\n",
        "  clf.fit(X_train, y_train)\n",
        "  \n",
        "  X_val = data_predict[feature_columns]\n",
        "  y_proba = clf.predict_proba(X_val)\n",
        "  \n",
        "  \n",
        "  \n",
        "  return y_proba\n",
        "\n",
        "\n",
        "\n"
      ],
      "execution_count": 215,
      "outputs": []
    },
    {
      "metadata": {
        "id": "OJd3MoGw3O41",
        "colab_type": "code",
        "colab": {
          "base_uri": "https://localhost:8080/",
          "height": 34
        },
        "outputId": "d625a41b-6cde-4694-a716-082c49f6c008"
      },
      "cell_type": "code",
      "source": [
        "# Predict on validation data\n",
        "y_val_proba = my_classifier_predictions(data_train, data_val)\n"
      ],
      "execution_count": 216,
      "outputs": [
        {
          "output_type": "stream",
          "text": [
            "{'C': 10, 'decision_function_shape': 'ovo', 'gamma': 0.1, 'kernel': 'rbf'}\n"
          ],
          "name": "stdout"
        }
      ]
    },
    {
      "metadata": {
        "id": "5TeQmTss3O44",
        "colab_type": "text"
      },
      "cell_type": "markdown",
      "source": [
        "## 6. Evaluate your model"
      ]
    },
    {
      "metadata": {
        "id": "PmU3CrIi3O45",
        "colab_type": "text"
      },
      "cell_type": "markdown",
      "source": [
        "### Confusion Matrix Metric"
      ]
    },
    {
      "metadata": {
        "id": "h4uUOxxp3O45",
        "colab_type": "code",
        "colab": {
          "base_uri": "https://localhost:8080/",
          "height": 68
        },
        "outputId": "f27f5d85-0e05-4dae-eece-c3beca03bd4c"
      },
      "cell_type": "code",
      "source": [
        "from sklearn.metrics import confusion_matrix\n",
        "\n",
        "# evaluate on validation set\n",
        "y_val = data_val['class']\n",
        "\n",
        "# This is exctly the first metric you'll be evaluated on!\n",
        "# Note: this will only work on the binary case -- let us know if you get to the multi-class case\n",
        "\n",
        "def cm_metric(y_true,y_prob):\n",
        "    \n",
        "    # predict the class with the greatest probability\n",
        "    y_val_predict = [np.argmax(y) for y in y_prob]\n",
        "\n",
        "    # calculate the confusion matrix\n",
        "    cm = confusion_matrix(y_true, y_val_predict)\n",
        "\n",
        "    cm_norm = cm.astype('float') / cm.sum(axis=1)[:, np.newaxis]\n",
        "    print(cm_norm)\n",
        "    return sum(sum(np.multiply(cm_norm,np.array([[1, -2], [-2, 1]]))))\n",
        "\n",
        "print('Confusion Matrix Metric: ',cm_metric(y_val,y_val_proba))\n",
        "\n"
      ],
      "execution_count": 217,
      "outputs": [
        {
          "output_type": "stream",
          "text": [
            "[[0.98255814 0.01744186]\n",
            " [0.18181818 0.81818182]]\n",
            "Confusion Matrix Metric:  1.4022198731501057\n"
          ],
          "name": "stdout"
        }
      ]
    },
    {
      "metadata": {
        "id": "BnwH6vql3O47",
        "colab_type": "text"
      },
      "cell_type": "markdown",
      "source": [
        "### AUC"
      ]
    },
    {
      "metadata": {
        "id": "uuPjt3rj3O48",
        "colab_type": "code",
        "colab": {
          "base_uri": "https://localhost:8080/",
          "height": 34
        },
        "outputId": "c6e94c90-8921-4265-db14-3181ba5154a2"
      },
      "cell_type": "code",
      "source": [
        "from sklearn.metrics import roc_curve\n",
        "from sklearn.metrics import auc\n",
        "\n",
        "fpr, tpr, threshold = roc_curve(y_val, y_val_proba[:,1])\n",
        "roc_auc = auc(fpr, tpr)\n",
        "print('AUC: ',roc_auc)\n",
        "\n"
      ],
      "execution_count": 218,
      "outputs": [
        {
          "output_type": "stream",
          "text": [
            "AUC:  0.9886804087385482\n"
          ],
          "name": "stdout"
        }
      ]
    },
    {
      "metadata": {
        "id": "CJIV0FNB3O5A",
        "colab_type": "code",
        "colab": {
          "base_uri": "https://localhost:8080/",
          "height": 294
        },
        "outputId": "5ce457cb-17bd-4f2e-aa86-85ba8054d907"
      },
      "cell_type": "code",
      "source": [
        "import matplotlib.pyplot as plt\n",
        "plt.title('Receiver Operating Characteristic')\n",
        "plt.plot(fpr, tpr, 'b', label = 'AUC = %0.3f' % roc_auc)\n",
        "plt.legend(loc = 'lower right')\n",
        "plt.plot([0, 1], [0, 1],'r--')\n",
        "plt.xlim([0, 1])\n",
        "plt.ylim([0, 1])\n",
        "plt.ylabel('True Positive Rate')\n",
        "plt.xlabel('False Positive Rate')\n",
        "plt.show()"
      ],
      "execution_count": 219,
      "outputs": [
        {
          "output_type": "display_data",
          "data": {
            "image/png": "[encoded data removed]",
            "text/plain": [
              "<matplotlib.figure.Figure at 0x7f2748186e48>"
            ]
          },
          "metadata": {
            "tags": []
          }
        }
      ]
    },
    {
      "metadata": {
        "id": "4xQAmMCp3O5D",
        "colab_type": "text"
      },
      "cell_type": "markdown",
      "source": [
        "## 7. Apply to test data\n",
        "Once you're happy with your model, you should go through the same procedure again except:\n",
        "* train with ALL the training data (re-combine with training and validation)\n",
        "* test on test data (you won't be able to evaluate -- that's for us to do!)"
      ]
    },
    {
      "metadata": {
        "id": "tAMVa7AR3O5E",
        "colab_type": "code",
        "colab": {
          "base_uri": "https://localhost:8080/"
        },
        "outputId": "beb6caa8-3c81-4ada-ca63-b864d202fa31"
      },
      "cell_type": "code",
      "source": [
        "train_url = \"https://raw.githubusercontent.com/BeaverWorksMedlytics/datasets/master/allhypo.train.data.csv\"\n",
        "test_url = \"https://raw.githubusercontent.com/BeaverWorksMedlytics/datasets/master/allhypo.test.data.csv\"\n",
        "\n",
        "data_train = po.read_csv(train_url) \n",
        "data_test = po.read_csv(test_url)   # this will not have a 'class' column!\n",
        "\n",
        "# format the wonky class labels\n",
        "data_train = format_class_labels(data_train)\n",
        "\n",
        "# deal with question marks\n",
        "data_train = handle_questions(data_train)\n",
        "data_test = handle_questions(data_test)\n",
        "\n",
        "# drop uninformative columns\n",
        "drop_columns = get_uninformative_columns(data_train)\n",
        "data_train=data_train.drop(drop_columns,axis=1)\n",
        "data_test=data_test.drop(drop_columns,axis=1)\n",
        "\n",
        "# format data\n",
        "data_train = format_data(data_train, numeric_columns)\n",
        "data_test = format_data(data_test, numeric_columns)\n",
        "\n",
        "# train and apply your classifier\n",
        "y_test_proba = my_classifier_predictions(data_train, data_test)\n",
        "\n",
        "\n"
      ],
      "execution_count": 0,
      "outputs": []
    },
    {
      "metadata": {
        "id": "HYwHb9NgCnAL",
        "colab_type": "code",
        "colab": {
          "base_uri": "https://localhost:8080/",
          "height": 136
        },
        "outputId": "7fd2bfb0-0c8b-4b2d-a44b-3a0232ef0c83"
      },
      "cell_type": "code",
      "source": [
        "(y_test_proba)\n",
        "\n"
      ],
      "execution_count": 206,
      "outputs": [
        {
          "output_type": "execute_result",
          "data": {
            "text/plain": [
              "array([[0.9927544 , 0.0072456 ],\n",
              "       [0.99276486, 0.00723514],\n",
              "       [0.99274609, 0.00725391],\n",
              "       ...,\n",
              "       [0.99275256, 0.00724744],\n",
              "       [0.9927458 , 0.0072542 ],\n",
              "       [0.99274695, 0.00725305]])"
            ]
          },
          "metadata": {
            "tags": []
          },
          "execution_count": 206
        }
      ]
    },
    {
      "metadata": {
        "id": "bj6j3ah03O5H",
        "colab_type": "text"
      },
      "cell_type": "markdown",
      "source": [
        "## 8. Submit your attempt!"
      ]
    },
    {
      "metadata": {
        "id": "Wuexs1daLNBY",
        "colab_type": "text"
      },
      "cell_type": "markdown",
      "source": [
        "Once you've run on the test data, send a pickle file containing your predictions contained a pandas dataframe.  This pandas dataframe will contain two columns for your binary classifier (or 4 columns for the multiclass classifier) that looks like this (*pay attention to the column names!*):\n",
        "\n",
        "|   | 0 | 1   |\n",
        "|---|---|------|\n",
        "| 0 | $p_{0,0}$ | $p_{0,1}$|\n",
        "| 1 | $p_{1,0}$ | $p_{1,1}$|\n",
        "| 2 | $p_{2,0}$ | $p_{2,1}$|\n",
        "| ... | ... | ...|\n",
        "| N | $p_{N,0}$ | $p_{N,1}$|\n",
        "\n",
        "where $p_{i,j}$ corresponds to the probability of data point $i$ belonging to class $j$."
      ]
    },
    {
      "metadata": {
        "id": "GkZOEgg3m3g1",
        "colab_type": "code",
        "colab": {
          "base_uri": "https://localhost:8080/",
          "height": 17
        },
        "outputId": "8866e308-adfb-4c1f-a64d-4a43a659de1d"
      },
      "cell_type": "code",
      "source": [
        "from google.colab import files\n",
        "import pickle\n",
        "\n",
        "# create a pickle file (this will save to the Google cloud)\n",
        "prediction_pickle_path = 'alan_1.pkl'\n",
        "prediction_pickle = open(prediction_pickle_path, 'wb')\n",
        "pickle.dump(y_test_proba, prediction_pickle)\n",
        "\n",
        "# download the pickle file and save it somewhere to your computer, and email it to \n",
        "files.download(prediction_pickle_path)\n",
        "prediction_pickle.close()"
      ],
      "execution_count": 207,
      "outputs": []
    },
    {
      "metadata": {
        "id": "w66lpbB6Qv_M",
        "colab_type": "text"
      },
      "cell_type": "markdown",
      "source": [
        "# Moving to the Next Level"
      ]
    },
    {
      "metadata": {
        "id": "X-HZ12lht_so",
        "colab_type": "text"
      },
      "cell_type": "markdown",
      "source": [
        "For those that finish early, remember how I converted the class values into simply \"negative\" and \"positive\"? Now try tackling the multiclass classifier (predicting the different types of positive hypothyroid cases instead of simply negative or positive)! \n",
        "\n",
        "The same rules apply!  (Note: for the multiclass problem, the AUC calculation will be the micro-average over your classes.)"
      ]
    },
    {
      "metadata": {
        "id": "lORJb8FOxHoS",
        "colab_type": "text"
      },
      "cell_type": "markdown",
      "source": [
        "(And for those that also finish the multiclass classifer, see Lyle for further instructions)."
      ]
    }
  ]
}